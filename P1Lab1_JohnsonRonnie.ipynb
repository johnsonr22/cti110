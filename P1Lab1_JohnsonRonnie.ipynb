{
  "nbformat": 4,
  "nbformat_minor": 0,
  "metadata": {
    "colab": {
      "provenance": []
    },
    "kernelspec": {
      "name": "python3",
      "display_name": "Python 3"
    },
    "language_info": {
      "name": "python"
    }
  },
  "cells": [
    {
      "cell_type": "code",
      "execution_count": 2,
      "metadata": {
        "colab": {
          "base_uri": "https://localhost:8080/"
        },
        "id": "kvC96dDcDLEv",
        "outputId": "4519bea5-4822-4b1b-fa21-1157225835e2"
      },
      "outputs": [
        {
          "output_type": "stream",
          "name": "stdout",
          "text": [
            "Enter your first name: Jeremy\n",
            "Enter your last name: Jones\n",
            "Hello, Jeremy Jones! Welcome to CTI\n"
          ]
        }
      ],
      "source": [
        "#Get info from user\n",
        "f_name=input(\"Enter your first name: \")\n",
        "l_name=input(\"Enter your last name: \")\n",
        "\n",
        "#Display greeting to user\n",
        "print(\"Hello,\", f_name, l_name+\"!\",\"Welcome to CTI\" )\n"
      ]
    }
  ]
}